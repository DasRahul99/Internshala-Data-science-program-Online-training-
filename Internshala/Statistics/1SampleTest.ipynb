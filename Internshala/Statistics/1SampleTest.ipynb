{
 "cells": [
  {
   "cell_type": "code",
   "execution_count": 2,
   "id": "bf055d9c",
   "metadata": {},
   "outputs": [],
   "source": [
    "import pandas as pd\n",
    "import scipy.stats as stats\n",
    "from scipy.stats import ttest_1samp"
   ]
  },
  {
   "cell_type": "code",
   "execution_count": 4,
   "id": "8ac9d4c5",
   "metadata": {},
   "outputs": [
    {
     "data": {
      "text/plain": [
       "0     6.55\n",
       "1     6.67\n",
       "2     6.56\n",
       "3     6.63\n",
       "4     6.39\n",
       "5     6.33\n",
       "6     6.28\n",
       "7     6.75\n",
       "8     6.86\n",
       "9     6.90\n",
       "10    6.90\n",
       "11    6.90\n",
       "12    6.30\n",
       "13    6.90\n",
       "14    6.22\n",
       "15    6.40\n",
       "16    6.42\n",
       "17    6.43\n",
       "18    6.54\n",
       "19    6.78\n",
       "20    5.50\n",
       "21    6.92\n",
       "22    6.66\n",
       "23    5.20\n",
       "24    6.11\n",
       "25    6.27\n",
       "26    6.82\n",
       "27    6.60\n",
       "28    6.49\n",
       "Name: Insect Length, dtype: float64"
      ]
     },
     "execution_count": 4,
     "metadata": {},
     "output_type": "execute_result"
    }
   ],
   "source": [
    "data = pd.read_csv(\"onesample.csv\")\n",
    "data = data[\"Insect Length\"]\n",
    "data"
   ]
  },
  {
   "cell_type": "markdown",
   "id": "d8da7592",
   "metadata": {},
   "source": [
    "Let's conduct a one sample T-test to check if the mean length of the sample insects is similer to the mean length of earlier insects\n",
    "we have the degree of freedom=28 and taking significance value to be 0.05 the T-critical value comes out to be 2.048 "
   ]
  },
  {
   "cell_type": "code",
   "execution_count": 6,
   "id": "edc44073",
   "metadata": {},
   "outputs": [
    {
     "data": {
      "text/plain": [
       "5.466112820736585"
      ]
     },
     "execution_count": 6,
     "metadata": {},
     "output_type": "execute_result"
    }
   ],
   "source": [
    "t_statistic, _ = ttest_1samp(data,6.09) #The t_statistic variable will store the t-statistic calculated by the t-test, while the '_'  placeholder variable will hold the p-value returned by the t-test, but it won't be used further in the code.\n",
    "t_statistic"
   ]
  },
  {
   "cell_type": "markdown",
   "id": "563a46b3",
   "metadata": {},
   "source": [
    " As t-statistic> t-critical value so we reject the NULL hypothesis. That is there is significant difference."
   ]
  },
  {
   "cell_type": "code",
   "execution_count": null,
   "id": "d09be4cc",
   "metadata": {},
   "outputs": [],
   "source": []
  }
 ],
 "metadata": {
  "kernelspec": {
   "display_name": "Python 3 (ipykernel)",
   "language": "python",
   "name": "python3"
  },
  "language_info": {
   "codemirror_mode": {
    "name": "ipython",
    "version": 3
   },
   "file_extension": ".py",
   "mimetype": "text/x-python",
   "name": "python",
   "nbconvert_exporter": "python",
   "pygments_lexer": "ipython3",
   "version": "3.10.12"
  }
 },
 "nbformat": 4,
 "nbformat_minor": 5
}
