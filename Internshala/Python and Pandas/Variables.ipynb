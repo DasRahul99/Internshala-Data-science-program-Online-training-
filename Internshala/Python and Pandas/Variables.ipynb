{
 "cells": [
  {
   "cell_type": "markdown",
   "id": "e192d743",
   "metadata": {},
   "source": [
    "## Variable assignment"
   ]
  },
  {
   "cell_type": "code",
   "execution_count": 1,
   "id": "5ca69997",
   "metadata": {},
   "outputs": [],
   "source": [
    "#nothing new"
   ]
  },
  {
   "cell_type": "markdown",
   "id": "76e81cc4",
   "metadata": {},
   "source": [
    "## Data types"
   ]
  },
  {
   "cell_type": "code",
   "execution_count": 2,
   "id": "db16dbfe",
   "metadata": {},
   "outputs": [
    {
     "data": {
      "text/plain": [
       "int"
      ]
     },
     "execution_count": 2,
     "metadata": {},
     "output_type": "execute_result"
    }
   ],
   "source": [
    "#same old bs\n",
    "a=5\n",
    "type (a)"
   ]
  },
  {
   "cell_type": "code",
   "execution_count": 8,
   "id": "9ba31618",
   "metadata": {},
   "outputs": [
    {
     "name": "stdout",
     "output_type": "stream",
     "text": [
      "Enter number:23\n",
      "Enter number:43\n",
      "Enter number:6\n",
      "Enter number:1\n",
      "Enter number:0\n",
      "23\n",
      "66\n",
      "72\n",
      "73\n",
      "73\n",
      "Okok=  73\n"
     ]
    }
   ],
   "source": [
    "list1=[]\n",
    "for i in range(5):\n",
    "    s=int(input(\"Enter number:\"))\n",
    "    list1.append(s)\n",
    "print(list1)\n",
    "x=0\n",
    "for j in list1:\n",
    "    x=x+j\n",
    "    print(x)\n",
    "print(\"= \",x)\n"
   ]
  },
  {
   "cell_type": "code",
   "execution_count": null,
   "id": "b970f39e",
   "metadata": {},
   "outputs": [],
   "source": []
  }
 ],
 "metadata": {
  "kernelspec": {
   "display_name": "Python 3 (ipykernel)",
   "language": "python",
   "name": "python3"
  },
  "language_info": {
   "codemirror_mode": {
    "name": "ipython",
    "version": 3
   },
   "file_extension": ".py",
   "mimetype": "text/x-python",
   "name": "python",
   "nbconvert_exporter": "python",
   "pygments_lexer": "ipython3",
   "version": "3.10.12"
  }
 },
 "nbformat": 4,
 "nbformat_minor": 5
}
