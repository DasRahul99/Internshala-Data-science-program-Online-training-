{
 "cells": [
  {
   "cell_type": "code",
   "execution_count": null,
   "id": "54729b2b",
   "metadata": {},
   "outputs": [],
   "source": []
  },
  {
   "cell_type": "code",
   "execution_count": 1,
   "id": "9d767e1a",
   "metadata": {},
   "outputs": [
    {
     "data": {
      "text/plain": [
       "[1, 3, 34, 6, 9]"
      ]
     },
     "execution_count": 1,
     "metadata": {},
     "output_type": "execute_result"
    }
   ],
   "source": [
    "#to remove a perticuler element from the list\n",
    "list = [1,3,34,4,6,9]\n",
    "list.remove(4)\n",
    "list"
   ]
  },
  {
   "cell_type": "code",
   "execution_count": 2,
   "id": "c290cc92",
   "metadata": {},
   "outputs": [
    {
     "data": {
      "text/plain": [
       "[1, 9, 'ardy', 69, 73, 'Treat', 8]"
      ]
     },
     "execution_count": 2,
     "metadata": {},
     "output_type": "execute_result"
    }
   ],
   "source": [
    "#to remove by position\n",
    "list1=[1,0,9,\"ardy\",69,73,\"Treatl\",8]\n",
    "del list1[1]\n",
    "list1"
   ]
  },
  {
   "cell_type": "code",
   "execution_count": 3,
   "id": "f48fcb17",
   "metadata": {},
   "outputs": [
    {
     "data": {
      "text/plain": [
       "[73, 'Treat', 8]"
      ]
     },
     "execution_count": 3,
     "metadata": {},
     "output_type": "execute_result"
    }
   ],
   "source": [
    "list2=[1,0,9,\"ardy\",69,73,\"Treat\",8]\n",
    "del list2[0:5]\n",
    "list2"
   ]
  },
  {
   "cell_type": "markdown",
   "id": "8fa96d04",
   "metadata": {},
   "source": [
    "## Adiition of multiple numbers"
   ]
  },
  {
   "cell_type": "code",
   "execution_count": 4,
   "id": "4fd7ba7e",
   "metadata": {},
   "outputs": [
    {
     "name": "stdout",
     "output_type": "stream",
     "text": [
      "Enter number 1: 12\n",
      "Enter number 2: 31\n",
      "Enter number 3: 1\n",
      "Enter number 4: 1\n",
      "Enter number 5: 1\n",
      "[12, 31, 1, 1, 1]\n",
      "Total=  46\n"
     ]
    }
   ],
   "source": [
    "list3=[]\n",
    "for i in range(5):\n",
    "    s=int(input(f\"Enter number {i+1}: \"))\n",
    "    list3.append(s)\n",
    "print(list3)\n",
    "x=0\n",
    "for j in list3:\n",
    "    x=x+j\n",
    "   # print(x)\n",
    "print(\"Total= \",x)"
   ]
  },
  {
   "cell_type": "markdown",
   "id": "65d8917a",
   "metadata": {},
   "source": [
    "## Implementing lists"
   ]
  },
  {
   "cell_type": "code",
   "execution_count": null,
   "id": "9cf33ada",
   "metadata": {},
   "outputs": [],
   "source": [
    "#nothing new"
   ]
  }
 ],
 "metadata": {
  "kernelspec": {
   "display_name": "Python 3 (ipykernel)",
   "language": "python",
   "name": "python3"
  },
  "language_info": {
   "codemirror_mode": {
    "name": "ipython",
    "version": 3
   },
   "file_extension": ".py",
   "mimetype": "text/x-python",
   "name": "python",
   "nbconvert_exporter": "python",
   "pygments_lexer": "ipython3",
   "version": "3.10.12"
  }
 },
 "nbformat": 4,
 "nbformat_minor": 5
}
