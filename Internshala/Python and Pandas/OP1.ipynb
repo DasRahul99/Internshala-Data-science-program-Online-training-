{
 "cells": [
  {
   "cell_type": "markdown",
   "id": "ede300c0",
   "metadata": {},
   "source": [
    "#  Operator Examole"
   ]
  },
  {
   "cell_type": "code",
   "execution_count": 2,
   "id": "f540f0a3",
   "metadata": {},
   "outputs": [
    {
     "data": {
      "text/plain": [
       "'Rahul Rahul Rahul Rahul Rahul Rahul Rahul Rahul Rahul Rahul Rahul Rahul Rahul Rahul Rahul Rahul Rahul Rahul Rahul Rahul '"
      ]
     },
     "execution_count": 2,
     "metadata": {},
     "output_type": "execute_result"
    }
   ],
   "source": [
    "#basic operations done in video\n",
    "#only new thing I learned\n",
    "\"Rahul \"*20"
   ]
  },
  {
   "cell_type": "code",
   "execution_count": null,
   "id": "569f9fd7",
   "metadata": {},
   "outputs": [],
   "source": []
  }
 ],
 "metadata": {
  "kernelspec": {
   "display_name": "Python 3 (ipykernel)",
   "language": "python",
   "name": "python3"
  },
  "language_info": {
   "codemirror_mode": {
    "name": "ipython",
    "version": 3
   },
   "file_extension": ".py",
   "mimetype": "text/x-python",
   "name": "python",
   "nbconvert_exporter": "python",
   "pygments_lexer": "ipython3",
   "version": "3.10.12"
  }
 },
 "nbformat": 4,
 "nbformat_minor": 5
}
