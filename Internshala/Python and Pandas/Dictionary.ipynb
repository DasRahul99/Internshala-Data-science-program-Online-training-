{
 "cells": [
  {
   "cell_type": "code",
   "execution_count": 1,
   "id": "58f123bf",
   "metadata": {},
   "outputs": [],
   "source": [
    "#creating\n",
    "dict={'RD':[16,9],'Adi':[31,8]}"
   ]
  },
  {
   "cell_type": "code",
   "execution_count": 2,
   "id": "ed4e8810",
   "metadata": {},
   "outputs": [
    {
     "data": {
      "text/plain": [
       "{'RD': [16, 9], 'Adi': [31, 8], 'Jojo': [9, 5]}"
      ]
     },
     "execution_count": 2,
     "metadata": {},
     "output_type": "execute_result"
    }
   ],
   "source": [
    "# adding single element\n",
    "dict['Jojo']=[9,5]\n",
    "dict"
   ]
  },
  {
   "cell_type": "code",
   "execution_count": 3,
   "id": "50b775b9",
   "metadata": {},
   "outputs": [
    {
     "data": {
      "text/plain": [
       "{'RD': [16, 9],\n",
       " 'Adi': [31, 8],\n",
       " 'Jojo': [9, 5],\n",
       " 'Rup': [31, 12],\n",
       " 'Fut': [26, 9]}"
      ]
     },
     "execution_count": 3,
     "metadata": {},
     "output_type": "execute_result"
    }
   ],
   "source": [
    "#adding multiple\n",
    "dict.update({'Rup':[31,12],'Fut':[26,9]})\n",
    "dict"
   ]
  },
  {
   "cell_type": "code",
   "execution_count": 4,
   "id": "c398149b",
   "metadata": {},
   "outputs": [
    {
     "data": {
      "text/plain": [
       "{'RD': [16, 9], 'Adi': [31, 8], 'Jojo': [9, 5], 'Fut': [26, 9]}"
      ]
     },
     "execution_count": 4,
     "metadata": {},
     "output_type": "execute_result"
    }
   ],
   "source": [
    "#deleting single \n",
    "del dict['Rup']\n",
    "dict"
   ]
  },
  {
   "cell_type": "code",
   "execution_count": 7,
   "id": "6ce3cf6c",
   "metadata": {},
   "outputs": [
    {
     "data": {
      "text/plain": [
       "{'RD': [16, 9], 'Fut': [26, 9]}"
      ]
     },
     "execution_count": 7,
     "metadata": {},
     "output_type": "execute_result"
    }
   ],
   "source": [
    " #deleting multiple\n",
    "delete =['Adi','Jojo']\n",
    "for i in delete:\n",
    "    if i in dict:\n",
    "        del dict[i]\n",
    "dict"
   ]
  },
  {
   "cell_type": "code",
   "execution_count": null,
   "id": "5ec0f6ee",
   "metadata": {},
   "outputs": [],
   "source": []
  }
 ],
 "metadata": {
  "kernelspec": {
   "display_name": "Python 3 (ipykernel)",
   "language": "python",
   "name": "python3"
  },
  "language_info": {
   "codemirror_mode": {
    "name": "ipython",
    "version": 3
   },
   "file_extension": ".py",
   "mimetype": "text/x-python",
   "name": "python",
   "nbconvert_exporter": "python",
   "pygments_lexer": "ipython3",
   "version": "3.10.12"
  }
 },
 "nbformat": 4,
 "nbformat_minor": 5
}
